{
 "cells": [
  {
   "cell_type": "markdown",
   "metadata": {},
   "source": [
    "# A NOTEBOOK FOR ENGINEERING DATA ANAlYSIS AND VISUALIZATION\n",
    "\n",
    "\n",
    "## The future of reseach  collaboration platform"
   ]
  },
  {
   "cell_type": "markdown",
   "metadata": {},
   "source": [
    "# <font color=blue>NBRRI</font>\n",
    "\n",
    "### <a href=\"http://www.nbrri.gov.ng/\" target=\"_blank\"> Nbrri database for geotechechnics</a>. "
   ]
  },
  {
   "cell_type": "markdown",
   "metadata": {},
   "source": [
    "\n",
    "### Importing the necesary pythonb libraries"
   ]
  },
  {
   "cell_type": "code",
   "execution_count": 177,
   "metadata": {},
   "outputs": [],
   "source": [
    "import pandas as pd\n",
    "import matplotlib.pyplot as plt"
   ]
  },
  {
   "cell_type": "code",
   "execution_count": 167,
   "metadata": {},
   "outputs": [],
   "source": [
    "df = pd.read_excel('Downloads/data/c%z.xlsx', sheet_name='C&T&Z')\n"
   ]
  },
  {
   "cell_type": "code",
   "execution_count": 81,
   "metadata": {},
   "outputs": [],
   "source": [
    "data = {\"col1\":[df ['Sample']], \"col2\":[df [' strain(e) ']], \"col3\":[df ['stress(kN/m2)']]}"
   ]
  },
  {
   "cell_type": "markdown",
   "metadata": {},
   "source": [
    "## mathematical equations  governing unconfined compressive strength behavior in geotechnics"
   ]
  },
  {
   "cell_type": "markdown",
   "metadata": {},
   "source": [
    "$$e^x=\\sum_{i=0}^\\infty \\frac{1}{i!}x^i$$ \n"
   ]
  },
  {
   "cell_type": "code",
   "execution_count": 64,
   "metadata": {},
   "outputs": [
    {
     "name": "stdout",
     "output_type": "stream",
     "text": [
      "Sample\n",
      " Dial guage\n",
      "F= force (kN)\n",
      "d = deflection(umm)\n",
      " strain(e) \n",
      "An(m2)\n",
      "stress(kN/m2)\n",
      "Unnamed: 7\n",
      "Unnamed: 8\n"
     ]
    }
   ],
   "source": [
    "for col_name in df:\n",
    "    print(col_name)"
   ]
  },
  {
   "cell_type": "code",
   "execution_count": 96,
   "metadata": {},
   "outputs": [],
   "source": [
    "x=df ['Sample']\n",
    "v=df [' strain(e) ']\n",
    "u=df ['stress(kN/m2)']"
   ]
  },
  {
   "cell_type": "code",
   "execution_count": 97,
   "metadata": {},
   "outputs": [],
   "source": [
    "ndf=pd.DataFrame(u)\n",
    "mdf=pd.DataFrame(v)\n",
    "xdf=pd.DataFrame(x)"
   ]
  },
  {
   "cell_type": "code",
   "execution_count": 98,
   "metadata": {},
   "outputs": [],
   "source": [
    "result = pd.concat([xdf,ndf, mdf], axis=1, sort=False)"
   ]
  },
  {
   "cell_type": "markdown",
   "metadata": {},
   "source": [
    "# SORTING STRESS AND STRAIN DATA FROM THE OVERAL \n",
    "# DIAL GUAGE EXPERIMENTAL DATA"
   ]
  },
  {
   "cell_type": "code",
   "execution_count": 106,
   "metadata": {},
   "outputs": [
    {
     "data": {
      "text/html": [
       "<div>\n",
       "<style scoped>\n",
       "    .dataframe tbody tr th:only-of-type {\n",
       "        vertical-align: middle;\n",
       "    }\n",
       "\n",
       "    .dataframe tbody tr th {\n",
       "        vertical-align: top;\n",
       "    }\n",
       "\n",
       "    .dataframe thead th {\n",
       "        text-align: right;\n",
       "    }\n",
       "</style>\n",
       "<table border=\"1\" class=\"dataframe\">\n",
       "  <thead>\n",
       "    <tr style=\"text-align: right;\">\n",
       "      <th></th>\n",
       "      <th>Sample</th>\n",
       "      <th>stress(kN/m2)</th>\n",
       "      <th>strain(e)</th>\n",
       "    </tr>\n",
       "  </thead>\n",
       "  <tbody>\n",
       "    <tr>\n",
       "      <td>0</td>\n",
       "      <td>7-Days curring</td>\n",
       "      <td>0.000000</td>\n",
       "      <td>0.000000</td>\n",
       "    </tr>\n",
       "    <tr>\n",
       "      <td>1</td>\n",
       "      <td>0C0T15Z</td>\n",
       "      <td>180.912476</td>\n",
       "      <td>0.067105</td>\n",
       "    </tr>\n",
       "    <tr>\n",
       "      <td>2</td>\n",
       "      <td>0C3T12Z</td>\n",
       "      <td>256.134990</td>\n",
       "      <td>0.053947</td>\n",
       "    </tr>\n",
       "    <tr>\n",
       "      <td>3</td>\n",
       "      <td>0C6T9Z</td>\n",
       "      <td>251.748294</td>\n",
       "      <td>0.059211</td>\n",
       "    </tr>\n",
       "    <tr>\n",
       "      <td>4</td>\n",
       "      <td>0C9T6Z</td>\n",
       "      <td>203.933723</td>\n",
       "      <td>0.047368</td>\n",
       "    </tr>\n",
       "    <tr>\n",
       "      <td>5</td>\n",
       "      <td>0C12T3Z</td>\n",
       "      <td>196.736062</td>\n",
       "      <td>0.047368</td>\n",
       "    </tr>\n",
       "    <tr>\n",
       "      <td>6</td>\n",
       "      <td>0C15T0Z</td>\n",
       "      <td>223.767057</td>\n",
       "      <td>0.039474</td>\n",
       "    </tr>\n",
       "    <tr>\n",
       "      <td>7</td>\n",
       "      <td>14-Days curring</td>\n",
       "      <td>0.000000</td>\n",
       "      <td>0.000000</td>\n",
       "    </tr>\n",
       "    <tr>\n",
       "      <td>8</td>\n",
       "      <td>0C0T15Z</td>\n",
       "      <td>187.480507</td>\n",
       "      <td>0.039474</td>\n",
       "    </tr>\n",
       "    <tr>\n",
       "      <td>9</td>\n",
       "      <td>0C3T12Z</td>\n",
       "      <td>237.072125</td>\n",
       "      <td>0.039474</td>\n",
       "    </tr>\n",
       "    <tr>\n",
       "      <td>10</td>\n",
       "      <td>0C6T9Z</td>\n",
       "      <td>240.253411</td>\n",
       "      <td>0.046053</td>\n",
       "    </tr>\n",
       "    <tr>\n",
       "      <td>11</td>\n",
       "      <td>0C9T6Z</td>\n",
       "      <td>214.736842</td>\n",
       "      <td>0.052632</td>\n",
       "    </tr>\n",
       "    <tr>\n",
       "      <td>12</td>\n",
       "      <td>0C12T3Z</td>\n",
       "      <td>186.966862</td>\n",
       "      <td>0.042105</td>\n",
       "    </tr>\n",
       "    <tr>\n",
       "      <td>13</td>\n",
       "      <td>0C15T0Z</td>\n",
       "      <td>202.856725</td>\n",
       "      <td>0.023684</td>\n",
       "    </tr>\n",
       "    <tr>\n",
       "      <td>14</td>\n",
       "      <td>28-Days curring</td>\n",
       "      <td>0.000000</td>\n",
       "      <td>0.000000</td>\n",
       "    </tr>\n",
       "    <tr>\n",
       "      <td>15</td>\n",
       "      <td>0C0T15Z</td>\n",
       "      <td>30.321637</td>\n",
       "      <td>0.036842</td>\n",
       "    </tr>\n",
       "    <tr>\n",
       "      <td>16</td>\n",
       "      <td>0C3T12Z</td>\n",
       "      <td>242.175439</td>\n",
       "      <td>0.052632</td>\n",
       "    </tr>\n",
       "    <tr>\n",
       "      <td>17</td>\n",
       "      <td>0C6T9Z</td>\n",
       "      <td>259.341131</td>\n",
       "      <td>0.042105</td>\n",
       "    </tr>\n",
       "    <tr>\n",
       "      <td>18</td>\n",
       "      <td>0C9T6Z</td>\n",
       "      <td>228.492593</td>\n",
       "      <td>0.050000</td>\n",
       "    </tr>\n",
       "    <tr>\n",
       "      <td>19</td>\n",
       "      <td>0C12T3Z</td>\n",
       "      <td>227.859649</td>\n",
       "      <td>0.052632</td>\n",
       "    </tr>\n",
       "    <tr>\n",
       "      <td>20</td>\n",
       "      <td>0C15T0Z</td>\n",
       "      <td>239.739766</td>\n",
       "      <td>0.023684</td>\n",
       "    </tr>\n",
       "    <tr>\n",
       "      <td>21</td>\n",
       "      <td>1-Day curring</td>\n",
       "      <td>0.000000</td>\n",
       "      <td>0.000000</td>\n",
       "    </tr>\n",
       "    <tr>\n",
       "      <td>22</td>\n",
       "      <td>0C0T15Z</td>\n",
       "      <td>147.880117</td>\n",
       "      <td>0.060526</td>\n",
       "    </tr>\n",
       "    <tr>\n",
       "      <td>23</td>\n",
       "      <td>0C3T12Z</td>\n",
       "      <td>199.990253</td>\n",
       "      <td>0.065789</td>\n",
       "    </tr>\n",
       "    <tr>\n",
       "      <td>24</td>\n",
       "      <td>0C6T9Z</td>\n",
       "      <td>181.573587</td>\n",
       "      <td>0.069737</td>\n",
       "    </tr>\n",
       "    <tr>\n",
       "      <td>25</td>\n",
       "      <td>0C9T6Z</td>\n",
       "      <td>156.877193</td>\n",
       "      <td>0.052632</td>\n",
       "    </tr>\n",
       "    <tr>\n",
       "      <td>26</td>\n",
       "      <td>0C12T3Z</td>\n",
       "      <td>131.774854</td>\n",
       "      <td>0.048684</td>\n",
       "    </tr>\n",
       "    <tr>\n",
       "      <td>27</td>\n",
       "      <td>0C15T0Z</td>\n",
       "      <td>156.723928</td>\n",
       "      <td>0.004342</td>\n",
       "    </tr>\n",
       "  </tbody>\n",
       "</table>\n",
       "</div>"
      ],
      "text/plain": [
       "             Sample  stress(kN/m2)   strain(e) \n",
       "0    7-Days curring       0.000000     0.000000\n",
       "1           0C0T15Z     180.912476     0.067105\n",
       "2           0C3T12Z     256.134990     0.053947\n",
       "3            0C6T9Z     251.748294     0.059211\n",
       "4            0C9T6Z     203.933723     0.047368\n",
       "5           0C12T3Z     196.736062     0.047368\n",
       "6           0C15T0Z     223.767057     0.039474\n",
       "7   14-Days curring       0.000000     0.000000\n",
       "8           0C0T15Z     187.480507     0.039474\n",
       "9           0C3T12Z     237.072125     0.039474\n",
       "10           0C6T9Z     240.253411     0.046053\n",
       "11           0C9T6Z     214.736842     0.052632\n",
       "12          0C12T3Z     186.966862     0.042105\n",
       "13          0C15T0Z     202.856725     0.023684\n",
       "14  28-Days curring       0.000000     0.000000\n",
       "15          0C0T15Z      30.321637     0.036842\n",
       "16          0C3T12Z     242.175439     0.052632\n",
       "17           0C6T9Z     259.341131     0.042105\n",
       "18           0C9T6Z     228.492593     0.050000\n",
       "19          0C12T3Z     227.859649     0.052632\n",
       "20          0C15T0Z     239.739766     0.023684\n",
       "21    1-Day curring       0.000000     0.000000\n",
       "22          0C0T15Z     147.880117     0.060526\n",
       "23          0C3T12Z     199.990253     0.065789\n",
       "24           0C6T9Z     181.573587     0.069737\n",
       "25           0C9T6Z     156.877193     0.052632\n",
       "26          0C12T3Z     131.774854     0.048684\n",
       "27          0C15T0Z     156.723928     0.004342"
      ]
     },
     "execution_count": 106,
     "metadata": {},
     "output_type": "execute_result"
    }
   ],
   "source": [
    "result.fillna(value=0)"
   ]
  },
  {
   "cell_type": "markdown",
   "metadata": {},
   "source": [
    "#  COMPUTATIONAL CODE FOR DATA SORTING AT \n",
    "#          7 DAYS CURING"
   ]
  },
  {
   "cell_type": "code",
   "execution_count": 104,
   "metadata": {},
   "outputs": [],
   "source": [
    "\n",
    "result.plot(kind='line',x='stress(kN/m2)',y=' strain(e) ',ax=ax)\n",
    "#result.plot(kind='line',x='name',y='num_pets', color='red', ax=ax)\n",
    "\n",
    "plt.show()"
   ]
  },
  {
   "cell_type": "code",
   "execution_count": 125,
   "metadata": {},
   "outputs": [],
   "source": [
    "aa=result['stress(kN/m2)'][1:7]\n",
    "bb=result[' strain(e) '][1:7]\n"
   ]
  },
  {
   "cell_type": "code",
   "execution_count": 140,
   "metadata": {},
   "outputs": [],
   "source": [
    "#result.plot(kind='line',x='stress(kN/m2)',y=' strain(e) ',ax=ax)"
   ]
  },
  {
   "cell_type": "code",
   "execution_count": 126,
   "metadata": {},
   "outputs": [],
   "source": [
    "ndf=pd.DataFrame(aa)\n",
    "cpf=pd.DataFrame(bb)"
   ]
  },
  {
   "cell_type": "code",
   "execution_count": 137,
   "metadata": {},
   "outputs": [],
   "source": [
    "result7 = pd.concat([ndf,cpf], axis=1, sort=False)"
   ]
  },
  {
   "cell_type": "markdown",
   "metadata": {},
   "source": [
    "# Result at day 7"
   ]
  },
  {
   "cell_type": "code",
   "execution_count": 178,
   "metadata": {},
   "outputs": [
    {
     "data": {
      "text/html": [
       "<div>\n",
       "<style scoped>\n",
       "    .dataframe tbody tr th:only-of-type {\n",
       "        vertical-align: middle;\n",
       "    }\n",
       "\n",
       "    .dataframe tbody tr th {\n",
       "        vertical-align: top;\n",
       "    }\n",
       "\n",
       "    .dataframe thead th {\n",
       "        text-align: right;\n",
       "    }\n",
       "</style>\n",
       "<table border=\"1\" class=\"dataframe\">\n",
       "  <thead>\n",
       "    <tr style=\"text-align: right;\">\n",
       "      <th></th>\n",
       "      <th>stress(kN/m2)</th>\n",
       "      <th>strain(e)</th>\n",
       "    </tr>\n",
       "  </thead>\n",
       "  <tbody>\n",
       "    <tr>\n",
       "      <td>1</td>\n",
       "      <td>180.912476</td>\n",
       "      <td>0.067105</td>\n",
       "    </tr>\n",
       "    <tr>\n",
       "      <td>2</td>\n",
       "      <td>256.134990</td>\n",
       "      <td>0.053947</td>\n",
       "    </tr>\n",
       "    <tr>\n",
       "      <td>3</td>\n",
       "      <td>251.748294</td>\n",
       "      <td>0.059211</td>\n",
       "    </tr>\n",
       "    <tr>\n",
       "      <td>4</td>\n",
       "      <td>203.933723</td>\n",
       "      <td>0.047368</td>\n",
       "    </tr>\n",
       "    <tr>\n",
       "      <td>5</td>\n",
       "      <td>196.736062</td>\n",
       "      <td>0.047368</td>\n",
       "    </tr>\n",
       "    <tr>\n",
       "      <td>6</td>\n",
       "      <td>223.767057</td>\n",
       "      <td>0.039474</td>\n",
       "    </tr>\n",
       "  </tbody>\n",
       "</table>\n",
       "</div>"
      ],
      "text/plain": [
       "   stress(kN/m2)   strain(e) \n",
       "1     180.912476     0.067105\n",
       "2     256.134990     0.053947\n",
       "3     251.748294     0.059211\n",
       "4     203.933723     0.047368\n",
       "5     196.736062     0.047368\n",
       "6     223.767057     0.039474"
      ]
     },
     "execution_count": 178,
     "metadata": {},
     "output_type": "execute_result"
    }
   ],
   "source": [
    "result7"
   ]
  },
  {
   "cell_type": "markdown",
   "metadata": {},
   "source": [
    "#  COMPUTATIONAL CODE FOR DATA SORTING AT \n",
    "#          14 DAYS CURING"
   ]
  },
  {
   "cell_type": "code",
   "execution_count": 151,
   "metadata": {},
   "outputs": [],
   "source": [
    "ndf=pd.DataFrame(u)\n",
    "mdf=pd.DataFrame(v)\n",
    "xdf=pd.DataFrame(x)\n",
    "\n",
    "result = pd.concat([xdf,ndf, mdf], axis=1, sort=False)\n",
    "aa2=result['stress(kN/m2)'][8:14]\n",
    "bb2=result[' strain(e) '][8:14]\n",
    "\n",
    "ndf=pd.DataFrame(aa2)\n",
    "cpf=pd.DataFrame(bb2)\n",
    "result14=pd.concat([ndf,cpf], axis=1, sort=False)"
   ]
  },
  {
   "cell_type": "markdown",
   "metadata": {},
   "source": [
    "# Result at day 14"
   ]
  },
  {
   "cell_type": "code",
   "execution_count": 179,
   "metadata": {},
   "outputs": [
    {
     "data": {
      "text/html": [
       "<div>\n",
       "<style scoped>\n",
       "    .dataframe tbody tr th:only-of-type {\n",
       "        vertical-align: middle;\n",
       "    }\n",
       "\n",
       "    .dataframe tbody tr th {\n",
       "        vertical-align: top;\n",
       "    }\n",
       "\n",
       "    .dataframe thead th {\n",
       "        text-align: right;\n",
       "    }\n",
       "</style>\n",
       "<table border=\"1\" class=\"dataframe\">\n",
       "  <thead>\n",
       "    <tr style=\"text-align: right;\">\n",
       "      <th></th>\n",
       "      <th>stress(kN/m2)</th>\n",
       "      <th>strain(e)</th>\n",
       "    </tr>\n",
       "  </thead>\n",
       "  <tbody>\n",
       "    <tr>\n",
       "      <td>8</td>\n",
       "      <td>187.480507</td>\n",
       "      <td>0.039474</td>\n",
       "    </tr>\n",
       "    <tr>\n",
       "      <td>9</td>\n",
       "      <td>237.072125</td>\n",
       "      <td>0.039474</td>\n",
       "    </tr>\n",
       "    <tr>\n",
       "      <td>10</td>\n",
       "      <td>240.253411</td>\n",
       "      <td>0.046053</td>\n",
       "    </tr>\n",
       "    <tr>\n",
       "      <td>11</td>\n",
       "      <td>214.736842</td>\n",
       "      <td>0.052632</td>\n",
       "    </tr>\n",
       "    <tr>\n",
       "      <td>12</td>\n",
       "      <td>186.966862</td>\n",
       "      <td>0.042105</td>\n",
       "    </tr>\n",
       "    <tr>\n",
       "      <td>13</td>\n",
       "      <td>202.856725</td>\n",
       "      <td>0.023684</td>\n",
       "    </tr>\n",
       "  </tbody>\n",
       "</table>\n",
       "</div>"
      ],
      "text/plain": [
       "    stress(kN/m2)   strain(e) \n",
       "8      187.480507     0.039474\n",
       "9      237.072125     0.039474\n",
       "10     240.253411     0.046053\n",
       "11     214.736842     0.052632\n",
       "12     186.966862     0.042105\n",
       "13     202.856725     0.023684"
      ]
     },
     "execution_count": 179,
     "metadata": {},
     "output_type": "execute_result"
    }
   ],
   "source": [
    "result14"
   ]
  },
  {
   "cell_type": "code",
   "execution_count": 176,
   "metadata": {},
   "outputs": [
    {
     "data": {
      "image/png": "[encoded data removed]",
      "text/plain": [
       "<Figure size 432x288 with 1 Axes>"
      ]
     },
     "metadata": {},
     "output_type": "display_data"
    }
   ],
   "source": [
    "ax = plt.gca()\n",
    "plt.style.use('ggplot')\n",
    "result7.plot(kind='scatter',x=' strain(e) ',y='stress(kN/m2)',ax=ax)\n",
    "result14.plot(kind='scatter',x=' strain(e) ',y='stress(kN/m2)',color='red',  ax=ax)\n",
    "plt.show()\n"
   ]
  },
  {
   "cell_type": "markdown",
   "metadata": {},
   "source": []
  },
  {
   "cell_type": "code",
   "execution_count": null,
   "metadata": {},
   "outputs": [],
   "source": []
  },
  {
   "cell_type": "code",
   "execution_count": null,
   "metadata": {},
   "outputs": [],
   "source": []
  }
 ],
 "metadata": {
  "kernelspec": {
   "display_name": "Python 3",
   "language": "python",
   "name": "python3"
  },
  "language_info": {
   "codemirror_mode": {
    "name": "ipython",
    "version": 3
   },
   "file_extension": ".py",
   "mimetype": "text/x-python",
   "name": "python",
   "nbconvert_exporter": "python",
   "pygments_lexer": "ipython3",
   "version": "3.7.4"
  }
 },
 "nbformat": 4,
 "nbformat_minor": 2
}
